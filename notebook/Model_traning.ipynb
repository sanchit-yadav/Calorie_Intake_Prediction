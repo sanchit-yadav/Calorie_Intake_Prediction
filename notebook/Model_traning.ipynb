{
 "cells": [
  {
   "cell_type": "markdown",
   "id": "4995b5fc",
   "metadata": {},
   "source": [
    "### Model Training\n",
    "#### Import data and required packages\n",
    "Importing Pandas, Numpy, Seaborn, Maplotlib and Warnings library"
   ]
  },
  {
   "cell_type": "code",
   "execution_count": 126,
   "id": "79f1f608",
   "metadata": {},
   "outputs": [],
   "source": [
    "# Basic import\n",
    "import pandas as pd\n",
    "import numpy as np\n",
    "import seaborn as sns\n",
    "import matplotlib .pyplot as plt\n",
    "import warnings\n",
    "warnings.filterwarnings('ignore')\n",
    "\n",
    "# Modeling\n",
    "from sklearn.metrics import mean_squared_error, r2_score\n",
    "from sklearn.neighbors import KNeighborsRegressor\n",
    "from sklearn.tree import DecisionTreeRegressor\n",
    "from sklearn.ensemble import RandomForestRegressor,AdaBoostRegressor\n",
    "from sklearn.svm import SVR\n",
    "from sklearn.linear_model import LinearRegression, Ridge,Lasso\n",
    "from sklearn.metrics import r2_score, mean_absolute_error, mean_squared_error\n",
    "from sklearn.model_selection import RandomizedSearchCV\n",
    "from catboost import CatBoostRegressor\n",
    "from xgboost import XGBRegressor"
   ]
  },
  {
   "cell_type": "markdown",
   "id": "b46a3d25",
   "metadata": {},
   "source": [
    "#### Import the CSV Data as Pandas DataFrame"
   ]
  },
  {
   "cell_type": "code",
   "execution_count": 127,
   "id": "cf6c0ce7",
   "metadata": {},
   "outputs": [],
   "source": [
    "df = pd.read_csv(r\"C:\\Users\\ysanc\\OneDrive\\Desktop\\Callorie_Intake_calculator\\data\\balanc_diet.csv\")"
   ]
  },
  {
   "cell_type": "markdown",
   "id": "b9e06047",
   "metadata": {},
   "source": [
    "#### Show top 5 records"
   ]
  },
  {
   "cell_type": "code",
   "execution_count": 128,
   "id": "bd094d4c",
   "metadata": {},
   "outputs": [
    {
     "data": {
      "text/html": [
       "<div>\n",
       "<style scoped>\n",
       "    .dataframe tbody tr th:only-of-type {\n",
       "        vertical-align: middle;\n",
       "    }\n",
       "\n",
       "    .dataframe tbody tr th {\n",
       "        vertical-align: top;\n",
       "    }\n",
       "\n",
       "    .dataframe thead th {\n",
       "        text-align: right;\n",
       "    }\n",
       "</style>\n",
       "<table border=\"1\" class=\"dataframe\">\n",
       "  <thead>\n",
       "    <tr style=\"text-align: right;\">\n",
       "      <th></th>\n",
       "      <th>ID</th>\n",
       "      <th>Age</th>\n",
       "      <th>Gender</th>\n",
       "      <th>Working_Type</th>\n",
       "      <th>Sleep_Hours</th>\n",
       "      <th>Height_m</th>\n",
       "      <th>Required_Daily_Calories</th>\n",
       "    </tr>\n",
       "  </thead>\n",
       "  <tbody>\n",
       "    <tr>\n",
       "      <th>0</th>\n",
       "      <td>5398</td>\n",
       "      <td>68.0</td>\n",
       "      <td>Female</td>\n",
       "      <td>Unemployed</td>\n",
       "      <td>6.627585</td>\n",
       "      <td>1.861374</td>\n",
       "      <td>1898.520157</td>\n",
       "    </tr>\n",
       "    <tr>\n",
       "      <th>1</th>\n",
       "      <td>3078</td>\n",
       "      <td>19.0</td>\n",
       "      <td>Female</td>\n",
       "      <td>Desk Job</td>\n",
       "      <td>5.671469</td>\n",
       "      <td>1.732762</td>\n",
       "      <td>2439.173224</td>\n",
       "    </tr>\n",
       "    <tr>\n",
       "      <th>2</th>\n",
       "      <td>6051</td>\n",
       "      <td>50.0</td>\n",
       "      <td>Female</td>\n",
       "      <td>Freelancer</td>\n",
       "      <td>7.060029</td>\n",
       "      <td>1.509387</td>\n",
       "      <td>1746.165518</td>\n",
       "    </tr>\n",
       "    <tr>\n",
       "      <th>3</th>\n",
       "      <td>6503</td>\n",
       "      <td>54.0</td>\n",
       "      <td>Male</td>\n",
       "      <td>Healthcare</td>\n",
       "      <td>4.154597</td>\n",
       "      <td>1.832796</td>\n",
       "      <td>2461.167138</td>\n",
       "    </tr>\n",
       "    <tr>\n",
       "      <th>4</th>\n",
       "      <td>3602</td>\n",
       "      <td>27.0</td>\n",
       "      <td>Female</td>\n",
       "      <td>Desk Job</td>\n",
       "      <td>3.847020</td>\n",
       "      <td>1.624670</td>\n",
       "      <td>2105.472452</td>\n",
       "    </tr>\n",
       "  </tbody>\n",
       "</table>\n",
       "</div>"
      ],
      "text/plain": [
       "     ID   Age  Gender Working_Type  Sleep_Hours  Height_m  \\\n",
       "0  5398  68.0  Female   Unemployed     6.627585  1.861374   \n",
       "1  3078  19.0  Female     Desk Job     5.671469  1.732762   \n",
       "2  6051  50.0  Female   Freelancer     7.060029  1.509387   \n",
       "3  6503  54.0    Male   Healthcare     4.154597  1.832796   \n",
       "4  3602  27.0  Female     Desk Job     3.847020  1.624670   \n",
       "\n",
       "   Required_Daily_Calories  \n",
       "0              1898.520157  \n",
       "1              2439.173224  \n",
       "2              1746.165518  \n",
       "3              2461.167138  \n",
       "4              2105.472452  "
      ]
     },
     "execution_count": 128,
     "metadata": {},
     "output_type": "execute_result"
    }
   ],
   "source": [
    "df.head()"
   ]
  },
  {
   "cell_type": "code",
   "execution_count": 129,
   "id": "794b2506",
   "metadata": {},
   "outputs": [
    {
     "data": {
      "text/plain": [
       "(10200, 7)"
      ]
     },
     "execution_count": 129,
     "metadata": {},
     "output_type": "execute_result"
    }
   ],
   "source": [
    "df.shape"
   ]
  },
  {
   "cell_type": "markdown",
   "id": "1190a50d",
   "metadata": {},
   "source": [
    "#### Droping Unnecessary columns"
   ]
  },
  {
   "cell_type": "code",
   "execution_count": 130,
   "id": "947de6bd",
   "metadata": {},
   "outputs": [],
   "source": [
    "df = df.drop('ID', axis = 1)"
   ]
  },
  {
   "cell_type": "code",
   "execution_count": 131,
   "id": "47092f34",
   "metadata": {},
   "outputs": [
    {
     "data": {
      "text/html": [
       "<div>\n",
       "<style scoped>\n",
       "    .dataframe tbody tr th:only-of-type {\n",
       "        vertical-align: middle;\n",
       "    }\n",
       "\n",
       "    .dataframe tbody tr th {\n",
       "        vertical-align: top;\n",
       "    }\n",
       "\n",
       "    .dataframe thead th {\n",
       "        text-align: right;\n",
       "    }\n",
       "</style>\n",
       "<table border=\"1\" class=\"dataframe\">\n",
       "  <thead>\n",
       "    <tr style=\"text-align: right;\">\n",
       "      <th></th>\n",
       "      <th>Age</th>\n",
       "      <th>Gender</th>\n",
       "      <th>Working_Type</th>\n",
       "      <th>Sleep_Hours</th>\n",
       "      <th>Height_m</th>\n",
       "      <th>Required_Daily_Calories</th>\n",
       "    </tr>\n",
       "  </thead>\n",
       "  <tbody>\n",
       "    <tr>\n",
       "      <th>0</th>\n",
       "      <td>68.0</td>\n",
       "      <td>Female</td>\n",
       "      <td>Unemployed</td>\n",
       "      <td>6.627585</td>\n",
       "      <td>1.861374</td>\n",
       "      <td>1898.520157</td>\n",
       "    </tr>\n",
       "    <tr>\n",
       "      <th>1</th>\n",
       "      <td>19.0</td>\n",
       "      <td>Female</td>\n",
       "      <td>Desk Job</td>\n",
       "      <td>5.671469</td>\n",
       "      <td>1.732762</td>\n",
       "      <td>2439.173224</td>\n",
       "    </tr>\n",
       "    <tr>\n",
       "      <th>2</th>\n",
       "      <td>50.0</td>\n",
       "      <td>Female</td>\n",
       "      <td>Freelancer</td>\n",
       "      <td>7.060029</td>\n",
       "      <td>1.509387</td>\n",
       "      <td>1746.165518</td>\n",
       "    </tr>\n",
       "    <tr>\n",
       "      <th>3</th>\n",
       "      <td>54.0</td>\n",
       "      <td>Male</td>\n",
       "      <td>Healthcare</td>\n",
       "      <td>4.154597</td>\n",
       "      <td>1.832796</td>\n",
       "      <td>2461.167138</td>\n",
       "    </tr>\n",
       "    <tr>\n",
       "      <th>4</th>\n",
       "      <td>27.0</td>\n",
       "      <td>Female</td>\n",
       "      <td>Desk Job</td>\n",
       "      <td>3.847020</td>\n",
       "      <td>1.624670</td>\n",
       "      <td>2105.472452</td>\n",
       "    </tr>\n",
       "  </tbody>\n",
       "</table>\n",
       "</div>"
      ],
      "text/plain": [
       "    Age  Gender Working_Type  Sleep_Hours  Height_m  Required_Daily_Calories\n",
       "0  68.0  Female   Unemployed     6.627585  1.861374              1898.520157\n",
       "1  19.0  Female     Desk Job     5.671469  1.732762              2439.173224\n",
       "2  50.0  Female   Freelancer     7.060029  1.509387              1746.165518\n",
       "3  54.0    Male   Healthcare     4.154597  1.832796              2461.167138\n",
       "4  27.0  Female     Desk Job     3.847020  1.624670              2105.472452"
      ]
     },
     "execution_count": 131,
     "metadata": {},
     "output_type": "execute_result"
    }
   ],
   "source": [
    "df.head()"
   ]
  },
  {
   "cell_type": "code",
   "execution_count": 132,
   "id": "2216ec7a",
   "metadata": {},
   "outputs": [
    {
     "name": "stdout",
     "output_type": "stream",
     "text": [
      "<class 'pandas.core.frame.DataFrame'>\n",
      "RangeIndex: 10200 entries, 0 to 10199\n",
      "Data columns (total 6 columns):\n",
      " #   Column                   Non-Null Count  Dtype  \n",
      "---  ------                   --------------  -----  \n",
      " 0   Age                      10171 non-null  float64\n",
      " 1   Gender                   10200 non-null  object \n",
      " 2   Working_Type             10171 non-null  object \n",
      " 3   Sleep_Hours              10171 non-null  float64\n",
      " 4   Height_m                 10171 non-null  float64\n",
      " 5   Required_Daily_Calories  10171 non-null  float64\n",
      "dtypes: float64(4), object(2)\n",
      "memory usage: 478.3+ KB\n"
     ]
    }
   ],
   "source": [
    "df.info()"
   ]
  },
  {
   "cell_type": "code",
   "execution_count": 133,
   "id": "f4b0b975",
   "metadata": {},
   "outputs": [
    {
     "data": {
      "text/plain": [
       "Age                        29\n",
       "Gender                      0\n",
       "Working_Type               29\n",
       "Sleep_Hours                29\n",
       "Height_m                   29\n",
       "Required_Daily_Calories    29\n",
       "dtype: int64"
      ]
     },
     "execution_count": 133,
     "metadata": {},
     "output_type": "execute_result"
    }
   ],
   "source": [
    "# Checking the missing values\n",
    "df.isnull().sum()"
   ]
  },
  {
   "cell_type": "markdown",
   "id": "0d017aaa",
   "metadata": {},
   "source": [
    "#### Filling missing values"
   ]
  },
  {
   "cell_type": "code",
   "execution_count": 134,
   "id": "812e328c",
   "metadata": {},
   "outputs": [],
   "source": [
    "df['Age'] = df.groupby('Gender')['Age'].transform(lambda x: x.fillna(x.median()))\n",
    "df['Sleep_Hours'] = df['Sleep_Hours'].interpolate()\n",
    "df['Working_Type'] = df['Working_Type'].fillna(df['Working_Type'].mode()[0])\n",
    "df['Height_m'] = df['Height_m'].fillna(df['Height_m'].median())\n",
    "df['Required_Daily_Calories'] = df['Required_Daily_Calories'].fillna(df['Required_Daily_Calories'].median())"
   ]
  },
  {
   "cell_type": "code",
   "execution_count": 135,
   "id": "70ab12de",
   "metadata": {},
   "outputs": [
    {
     "data": {
      "text/plain": [
       "Age                        0\n",
       "Gender                     0\n",
       "Working_Type               0\n",
       "Sleep_Hours                0\n",
       "Height_m                   0\n",
       "Required_Daily_Calories    0\n",
       "dtype: int64"
      ]
     },
     "execution_count": 135,
     "metadata": {},
     "output_type": "execute_result"
    }
   ],
   "source": [
    "df.isnull().sum()"
   ]
  },
  {
   "cell_type": "code",
   "execution_count": 136,
   "id": "59aa7406",
   "metadata": {},
   "outputs": [],
   "source": [
    "# Setting the Required daily calories at two decimal Points\n",
    "df['Required_Daily_Calories'] = df['Required_Daily_Calories'].round(2)  "
   ]
  },
  {
   "cell_type": "markdown",
   "id": "6da25965",
   "metadata": {},
   "source": [
    "#### Preparing X and Y variables"
   ]
  },
  {
   "cell_type": "code",
   "execution_count": 137,
   "id": "6e2b4cc1",
   "metadata": {},
   "outputs": [],
   "source": [
    "x = df.drop(columns=['Required_Daily_Calories'],axis=1)\n",
    "y = df['Required_Daily_Calories']"
   ]
  },
  {
   "cell_type": "code",
   "execution_count": 138,
   "id": "3e500668",
   "metadata": {},
   "outputs": [
    {
     "data": {
      "text/html": [
       "<div>\n",
       "<style scoped>\n",
       "    .dataframe tbody tr th:only-of-type {\n",
       "        vertical-align: middle;\n",
       "    }\n",
       "\n",
       "    .dataframe tbody tr th {\n",
       "        vertical-align: top;\n",
       "    }\n",
       "\n",
       "    .dataframe thead th {\n",
       "        text-align: right;\n",
       "    }\n",
       "</style>\n",
       "<table border=\"1\" class=\"dataframe\">\n",
       "  <thead>\n",
       "    <tr style=\"text-align: right;\">\n",
       "      <th></th>\n",
       "      <th>Age</th>\n",
       "      <th>Gender</th>\n",
       "      <th>Working_Type</th>\n",
       "      <th>Sleep_Hours</th>\n",
       "      <th>Height_m</th>\n",
       "    </tr>\n",
       "  </thead>\n",
       "  <tbody>\n",
       "    <tr>\n",
       "      <th>0</th>\n",
       "      <td>68.0</td>\n",
       "      <td>Female</td>\n",
       "      <td>Unemployed</td>\n",
       "      <td>6.627585</td>\n",
       "      <td>1.861374</td>\n",
       "    </tr>\n",
       "    <tr>\n",
       "      <th>1</th>\n",
       "      <td>19.0</td>\n",
       "      <td>Female</td>\n",
       "      <td>Desk Job</td>\n",
       "      <td>5.671469</td>\n",
       "      <td>1.732762</td>\n",
       "    </tr>\n",
       "    <tr>\n",
       "      <th>2</th>\n",
       "      <td>50.0</td>\n",
       "      <td>Female</td>\n",
       "      <td>Freelancer</td>\n",
       "      <td>7.060029</td>\n",
       "      <td>1.509387</td>\n",
       "    </tr>\n",
       "    <tr>\n",
       "      <th>3</th>\n",
       "      <td>54.0</td>\n",
       "      <td>Male</td>\n",
       "      <td>Healthcare</td>\n",
       "      <td>4.154597</td>\n",
       "      <td>1.832796</td>\n",
       "    </tr>\n",
       "    <tr>\n",
       "      <th>4</th>\n",
       "      <td>27.0</td>\n",
       "      <td>Female</td>\n",
       "      <td>Desk Job</td>\n",
       "      <td>3.847020</td>\n",
       "      <td>1.624670</td>\n",
       "    </tr>\n",
       "  </tbody>\n",
       "</table>\n",
       "</div>"
      ],
      "text/plain": [
       "    Age  Gender Working_Type  Sleep_Hours  Height_m\n",
       "0  68.0  Female   Unemployed     6.627585  1.861374\n",
       "1  19.0  Female     Desk Job     5.671469  1.732762\n",
       "2  50.0  Female   Freelancer     7.060029  1.509387\n",
       "3  54.0    Male   Healthcare     4.154597  1.832796\n",
       "4  27.0  Female     Desk Job     3.847020  1.624670"
      ]
     },
     "execution_count": 138,
     "metadata": {},
     "output_type": "execute_result"
    }
   ],
   "source": [
    "x.head()"
   ]
  },
  {
   "cell_type": "code",
   "execution_count": 139,
   "id": "3dd6ac1b",
   "metadata": {},
   "outputs": [
    {
     "data": {
      "text/plain": [
       "0    1898.52\n",
       "1    2439.17\n",
       "2    1746.17\n",
       "3    2461.17\n",
       "4    2105.47\n",
       "Name: Required_Daily_Calories, dtype: float64"
      ]
     },
     "execution_count": 139,
     "metadata": {},
     "output_type": "execute_result"
    }
   ],
   "source": [
    "y.head()"
   ]
  },
  {
   "cell_type": "code",
   "execution_count": 140,
   "id": "c7232696",
   "metadata": {},
   "outputs": [],
   "source": [
    "# Create Column Transformer\n",
    "num_features = x.select_dtypes(exclude=\"object\").columns\n",
    "cat_features = x.select_dtypes(include=\"object\").columns\n",
    "\n",
    "from sklearn.preprocessing import OneHotEncoder, StandardScaler\n",
    "from sklearn.compose import ColumnTransformer\n",
    "\n",
    "numeric_transformer = StandardScaler()\n",
    "oh_transformer = OneHotEncoder()\n",
    "\n",
    "preprocessor = ColumnTransformer(\n",
    "    [\n",
    "        (\"OneHotEncoder\", oh_transformer, cat_features),\n",
    "         (\"StandardScaler\", numeric_transformer, num_features),        \n",
    "    ]\n",
    ")"
   ]
  },
  {
   "cell_type": "code",
   "execution_count": 141,
   "id": "8752aba1",
   "metadata": {},
   "outputs": [],
   "source": [
    "x = preprocessor.fit_transform(x)"
   ]
  },
  {
   "cell_type": "code",
   "execution_count": 142,
   "id": "00fc8203",
   "metadata": {},
   "outputs": [
    {
     "data": {
      "text/plain": [
       "(10200, 13)"
      ]
     },
     "execution_count": 142,
     "metadata": {},
     "output_type": "execute_result"
    }
   ],
   "source": [
    "x.shape"
   ]
  },
  {
   "cell_type": "code",
   "execution_count": 143,
   "id": "3a2b13fe",
   "metadata": {},
   "outputs": [
    {
     "data": {
      "text/plain": [
       "((8160, 13), (2040, 13))"
      ]
     },
     "execution_count": 143,
     "metadata": {},
     "output_type": "execute_result"
    }
   ],
   "source": [
    "# Separate dataset into train and test\n",
    "from sklearn.model_selection import train_test_split\n",
    "X_train, X_test, y_train, y_test = train_test_split(x,y,test_size=0.2,random_state=42)\n",
    "X_train.shape, X_test.shape"
   ]
  },
  {
   "cell_type": "code",
   "execution_count": 144,
   "id": "f8295195",
   "metadata": {},
   "outputs": [],
   "source": [
    "def evaluate_model(true, predicted):\n",
    "    mae = mean_absolute_error(true, predicted)\n",
    "    mse = mean_squared_error(true, predicted)\n",
    "    rmse = np.sqrt(mean_squared_error(true, predicted))\n",
    "    r2_square = r2_score(true, predicted)\n",
    "    return mae, rmse, r2_square"
   ]
  },
  {
   "cell_type": "code",
   "execution_count": 145,
   "id": "17f103af",
   "metadata": {},
   "outputs": [
    {
     "name": "stdout",
     "output_type": "stream",
     "text": [
      "Linear Regression\n",
      "Model performance for Training set\n",
      "- Root Mean Squared Error: 291.8057\n",
      "- Mean Absolute Error: 227.3660\n",
      "- R2 Score: 0.5475\n",
      "----------------------------------\n",
      "Model performance for Test set\n",
      "- Root Mean Squared Error: 294.7980\n",
      "- Mean Absolute Error: 230.2723\n",
      "- R2 Score: 0.5549\n",
      "===================================\n",
      "\n",
      "\n",
      "Lasso\n",
      "Model performance for Training set\n",
      "- Root Mean Squared Error: 291.9244\n",
      "- Mean Absolute Error: 227.5598\n",
      "- R2 Score: 0.5471\n",
      "----------------------------------\n",
      "Model performance for Test set\n",
      "- Root Mean Squared Error: 295.0424\n",
      "- Mean Absolute Error: 230.6751\n",
      "- R2 Score: 0.5541\n",
      "===================================\n",
      "\n",
      "\n",
      "Ridge\n",
      "Model performance for Training set\n",
      "- Root Mean Squared Error: 291.8058\n",
      "- Mean Absolute Error: 227.3717\n",
      "- R2 Score: 0.5475\n",
      "----------------------------------\n",
      "Model performance for Test set\n",
      "- Root Mean Squared Error: 294.8094\n",
      "- Mean Absolute Error: 230.2865\n",
      "- R2 Score: 0.5548\n",
      "===================================\n",
      "\n",
      "\n",
      "K-Neighbors Regressor\n",
      "Model performance for Training set\n",
      "- Root Mean Squared Error: 217.0690\n",
      "- Mean Absolute Error: 160.7566\n",
      "- R2 Score: 0.7496\n",
      "----------------------------------\n",
      "Model performance for Test set\n",
      "- Root Mean Squared Error: 275.5440\n",
      "- Mean Absolute Error: 206.1705\n",
      "- R2 Score: 0.6111\n",
      "===================================\n",
      "\n",
      "\n",
      "Decision Tree\n",
      "Model performance for Training set\n",
      "- Root Mean Squared Error: 0.9472\n",
      "- Mean Absolute Error: 0.0148\n",
      "- R2 Score: 1.0000\n",
      "----------------------------------\n",
      "Model performance for Test set\n",
      "- Root Mean Squared Error: 363.3272\n",
      "- Mean Absolute Error: 260.1495\n",
      "- R2 Score: 0.3238\n",
      "===================================\n",
      "\n",
      "\n",
      "Random Forest Regressor\n",
      "Model performance for Training set\n",
      "- Root Mean Squared Error: 99.2547\n",
      "- Mean Absolute Error: 73.3731\n",
      "- R2 Score: 0.9476\n",
      "----------------------------------\n",
      "Model performance for Test set\n",
      "- Root Mean Squared Error: 270.7887\n",
      "- Mean Absolute Error: 200.9295\n",
      "- R2 Score: 0.6244\n",
      "===================================\n",
      "\n",
      "\n",
      "XGBRegressor\n",
      "Model performance for Training set\n",
      "- Root Mean Squared Error: 176.3142\n",
      "- Mean Absolute Error: 135.4956\n",
      "- R2 Score: 0.8348\n",
      "----------------------------------\n",
      "Model performance for Test set\n",
      "- Root Mean Squared Error: 288.7642\n",
      "- Mean Absolute Error: 220.5686\n",
      "- R2 Score: 0.5729\n",
      "===================================\n",
      "\n",
      "\n",
      "CatBoosting Regressor\n",
      "Model performance for Training set\n",
      "- Root Mean Squared Error: 222.3801\n",
      "- Mean Absolute Error: 174.6589\n",
      "- R2 Score: 0.7372\n",
      "----------------------------------\n",
      "Model performance for Test set\n",
      "- Root Mean Squared Error: 282.1879\n",
      "- Mean Absolute Error: 217.5109\n",
      "- R2 Score: 0.5921\n",
      "===================================\n",
      "\n",
      "\n",
      "AdaBoost Regressor\n",
      "Model performance for Training set\n",
      "- Root Mean Squared Error: 317.3691\n",
      "- Mean Absolute Error: 250.7528\n",
      "- R2 Score: 0.4648\n",
      "----------------------------------\n",
      "Model performance for Test set\n",
      "- Root Mean Squared Error: 325.0145\n",
      "- Mean Absolute Error: 257.9258\n",
      "- R2 Score: 0.4589\n",
      "===================================\n",
      "\n",
      "\n"
     ]
    }
   ],
   "source": [
    "models = {\n",
    "    \"Linear Regression\": LinearRegression(),\n",
    "    \"Lasso\": Lasso(),\n",
    "    \"Ridge\": Ridge(),\n",
    "    \"K-Neighbors Regressor\": KNeighborsRegressor(),\n",
    "    \"Decision Tree\": DecisionTreeRegressor(),\n",
    "    \"Random Forest Regressor\": RandomForestRegressor(),\n",
    "    \"XGBRegressor\": XGBRegressor(), \n",
    "    \"CatBoosting Regressor\": CatBoostRegressor(verbose=False),\n",
    "    \"AdaBoost Regressor\": AdaBoostRegressor()\n",
    "}\n",
    "model_list = []\n",
    "r2_list =[]\n",
    "\n",
    "for i in range(len(list(models))):\n",
    "    model = list(models.values())[i]\n",
    "    model.fit(X_train, y_train) # Train model\n",
    "\n",
    "    # Make predictions\n",
    "    y_train_pred = model.predict(X_train)\n",
    "    y_test_pred = model.predict(X_test)\n",
    "    \n",
    "    # Evaluate Train and Test dataset\n",
    "    model_train_mae , model_train_rmse, model_train_r2 = evaluate_model(y_train, y_train_pred)\n",
    "\n",
    "    model_test_mae , model_test_rmse, model_test_r2 = evaluate_model(y_test, y_test_pred)\n",
    "\n",
    "    \n",
    "    print(list(models.keys())[i])\n",
    "    model_list.append(list(models.keys())[i])\n",
    "    \n",
    "    print('Model performance for Training set')\n",
    "    print(\"- Root Mean Squared Error: {:.4f}\".format(model_train_rmse))\n",
    "    print(\"- Mean Absolute Error: {:.4f}\".format(model_train_mae))\n",
    "    print(\"- R2 Score: {:.4f}\".format(model_train_r2))\n",
    "\n",
    "    print('----------------------------------')\n",
    "    \n",
    "    print('Model performance for Test set')\n",
    "    print(\"- Root Mean Squared Error: {:.4f}\".format(model_test_rmse))\n",
    "    print(\"- Mean Absolute Error: {:.4f}\".format(model_test_mae))\n",
    "    print(\"- R2 Score: {:.4f}\".format(model_test_r2))\n",
    "    r2_list.append(model_test_r2)\n",
    "    \n",
    "    print('='*35)\n",
    "    print('\\n')"
   ]
  },
  {
   "cell_type": "code",
   "execution_count": 146,
   "id": "2ae69fc3",
   "metadata": {},
   "outputs": [
    {
     "data": {
      "text/html": [
       "<div>\n",
       "<style scoped>\n",
       "    .dataframe tbody tr th:only-of-type {\n",
       "        vertical-align: middle;\n",
       "    }\n",
       "\n",
       "    .dataframe tbody tr th {\n",
       "        vertical-align: top;\n",
       "    }\n",
       "\n",
       "    .dataframe thead th {\n",
       "        text-align: right;\n",
       "    }\n",
       "</style>\n",
       "<table border=\"1\" class=\"dataframe\">\n",
       "  <thead>\n",
       "    <tr style=\"text-align: right;\">\n",
       "      <th></th>\n",
       "      <th>Model Name</th>\n",
       "      <th>R2_Score</th>\n",
       "    </tr>\n",
       "  </thead>\n",
       "  <tbody>\n",
       "    <tr>\n",
       "      <th>5</th>\n",
       "      <td>Random Forest Regressor</td>\n",
       "      <td>0.624411</td>\n",
       "    </tr>\n",
       "    <tr>\n",
       "      <th>3</th>\n",
       "      <td>K-Neighbors Regressor</td>\n",
       "      <td>0.611103</td>\n",
       "    </tr>\n",
       "    <tr>\n",
       "      <th>7</th>\n",
       "      <td>CatBoosting Regressor</td>\n",
       "      <td>0.592123</td>\n",
       "    </tr>\n",
       "    <tr>\n",
       "      <th>6</th>\n",
       "      <td>XGBRegressor</td>\n",
       "      <td>0.572891</td>\n",
       "    </tr>\n",
       "    <tr>\n",
       "      <th>0</th>\n",
       "      <td>Linear Regression</td>\n",
       "      <td>0.554855</td>\n",
       "    </tr>\n",
       "    <tr>\n",
       "      <th>2</th>\n",
       "      <td>Ridge</td>\n",
       "      <td>0.554821</td>\n",
       "    </tr>\n",
       "    <tr>\n",
       "      <th>1</th>\n",
       "      <td>Lasso</td>\n",
       "      <td>0.554117</td>\n",
       "    </tr>\n",
       "    <tr>\n",
       "      <th>8</th>\n",
       "      <td>AdaBoost Regressor</td>\n",
       "      <td>0.458924</td>\n",
       "    </tr>\n",
       "    <tr>\n",
       "      <th>4</th>\n",
       "      <td>Decision Tree</td>\n",
       "      <td>0.323842</td>\n",
       "    </tr>\n",
       "  </tbody>\n",
       "</table>\n",
       "</div>"
      ],
      "text/plain": [
       "                Model Name  R2_Score\n",
       "5  Random Forest Regressor  0.624411\n",
       "3    K-Neighbors Regressor  0.611103\n",
       "7    CatBoosting Regressor  0.592123\n",
       "6             XGBRegressor  0.572891\n",
       "0        Linear Regression  0.554855\n",
       "2                    Ridge  0.554821\n",
       "1                    Lasso  0.554117\n",
       "8       AdaBoost Regressor  0.458924\n",
       "4            Decision Tree  0.323842"
      ]
     },
     "execution_count": 146,
     "metadata": {},
     "output_type": "execute_result"
    }
   ],
   "source": [
    "pd.DataFrame(list(zip(model_list, r2_list)), columns=['Model Name', 'R2_Score']).sort_values(by=[\"R2_Score\"],ascending=False)"
   ]
  },
  {
   "cell_type": "code",
   "execution_count": 147,
   "id": "63e13291",
   "metadata": {},
   "outputs": [
    {
     "name": "stdout",
     "output_type": "stream",
     "text": [
      " Accuracy of the model is 62.13\n"
     ]
    }
   ],
   "source": [
    "Random_model = RandomForestRegressor()\n",
    "Random_model = Random_model.fit(X_train, y_train)\n",
    "y_pred = Random_model.predict(X_test)\n",
    "score = r2_score(y_test, y_pred)*100\n",
    "print(\" Accuracy of the model is %.2f\" %score)"
   ]
  },
  {
   "cell_type": "code",
   "execution_count": 148,
   "id": "e49e7c74",
   "metadata": {},
   "outputs": [
    {
     "data": {
      "text/plain": [
       "['columns.pkl']"
      ]
     },
     "execution_count": 148,
     "metadata": {},
     "output_type": "execute_result"
    }
   ],
   "source": [
    "import joblib\n",
    "joblib.dump(models['Random Forest Regressor'],'R_F_Regressor_heart.pkl')\n",
    "joblib.dump(preprocessor,'preprocessor.pkl')\n",
    "joblib.dump(df.columns.tolist(),'columns.pkl')"
   ]
  },
  {
   "cell_type": "code",
   "execution_count": 149,
   "id": "8ad24a21",
   "metadata": {},
   "outputs": [
    {
     "data": {
      "text/html": [
       "<div>\n",
       "<style scoped>\n",
       "    .dataframe tbody tr th:only-of-type {\n",
       "        vertical-align: middle;\n",
       "    }\n",
       "\n",
       "    .dataframe tbody tr th {\n",
       "        vertical-align: top;\n",
       "    }\n",
       "\n",
       "    .dataframe thead th {\n",
       "        text-align: right;\n",
       "    }\n",
       "</style>\n",
       "<table border=\"1\" class=\"dataframe\">\n",
       "  <thead>\n",
       "    <tr style=\"text-align: right;\">\n",
       "      <th></th>\n",
       "      <th>Actual Value</th>\n",
       "      <th>Predicted Value</th>\n",
       "      <th>Difference</th>\n",
       "    </tr>\n",
       "  </thead>\n",
       "  <tbody>\n",
       "    <tr>\n",
       "      <th>10078</th>\n",
       "      <td>2004.82</td>\n",
       "      <td>2235.3003</td>\n",
       "      <td>-230.4803</td>\n",
       "    </tr>\n",
       "    <tr>\n",
       "      <th>3742</th>\n",
       "      <td>2190.43</td>\n",
       "      <td>2433.3792</td>\n",
       "      <td>-242.9492</td>\n",
       "    </tr>\n",
       "    <tr>\n",
       "      <th>10068</th>\n",
       "      <td>2396.55</td>\n",
       "      <td>2040.5399</td>\n",
       "      <td>356.0101</td>\n",
       "    </tr>\n",
       "    <tr>\n",
       "      <th>5723</th>\n",
       "      <td>2329.08</td>\n",
       "      <td>2651.9382</td>\n",
       "      <td>-322.8582</td>\n",
       "    </tr>\n",
       "    <tr>\n",
       "      <th>8987</th>\n",
       "      <td>2503.04</td>\n",
       "      <td>2444.6493</td>\n",
       "      <td>58.3907</td>\n",
       "    </tr>\n",
       "    <tr>\n",
       "      <th>...</th>\n",
       "      <td>...</td>\n",
       "      <td>...</td>\n",
       "      <td>...</td>\n",
       "    </tr>\n",
       "    <tr>\n",
       "      <th>5768</th>\n",
       "      <td>2632.39</td>\n",
       "      <td>2554.0849</td>\n",
       "      <td>78.3051</td>\n",
       "    </tr>\n",
       "    <tr>\n",
       "      <th>4906</th>\n",
       "      <td>1870.00</td>\n",
       "      <td>1906.1422</td>\n",
       "      <td>-36.1422</td>\n",
       "    </tr>\n",
       "    <tr>\n",
       "      <th>6746</th>\n",
       "      <td>1500.47</td>\n",
       "      <td>1965.6265</td>\n",
       "      <td>-465.1565</td>\n",
       "    </tr>\n",
       "    <tr>\n",
       "      <th>2820</th>\n",
       "      <td>3404.47</td>\n",
       "      <td>3321.7428</td>\n",
       "      <td>82.7272</td>\n",
       "    </tr>\n",
       "    <tr>\n",
       "      <th>4438</th>\n",
       "      <td>1893.94</td>\n",
       "      <td>2094.0193</td>\n",
       "      <td>-200.0793</td>\n",
       "    </tr>\n",
       "  </tbody>\n",
       "</table>\n",
       "<p>2040 rows × 3 columns</p>\n",
       "</div>"
      ],
      "text/plain": [
       "       Actual Value  Predicted Value  Difference\n",
       "10078       2004.82        2235.3003   -230.4803\n",
       "3742        2190.43        2433.3792   -242.9492\n",
       "10068       2396.55        2040.5399    356.0101\n",
       "5723        2329.08        2651.9382   -322.8582\n",
       "8987        2503.04        2444.6493     58.3907\n",
       "...             ...              ...         ...\n",
       "5768        2632.39        2554.0849     78.3051\n",
       "4906        1870.00        1906.1422    -36.1422\n",
       "6746        1500.47        1965.6265   -465.1565\n",
       "2820        3404.47        3321.7428     82.7272\n",
       "4438        1893.94        2094.0193   -200.0793\n",
       "\n",
       "[2040 rows x 3 columns]"
      ]
     },
     "execution_count": 149,
     "metadata": {},
     "output_type": "execute_result"
    }
   ],
   "source": [
    "pred_df=pd.DataFrame({'Actual Value':y_test,'Predicted Value':y_pred,'Difference':y_test-y_pred})\n",
    "pred_df"
   ]
  },
  {
   "cell_type": "code",
   "execution_count": null,
   "id": "38e44134",
   "metadata": {},
   "outputs": [],
   "source": []
  }
 ],
 "metadata": {
  "kernelspec": {
   "display_name": "venv",
   "language": "python",
   "name": "python3"
  },
  "language_info": {
   "codemirror_mode": {
    "name": "ipython",
    "version": 3
   },
   "file_extension": ".py",
   "mimetype": "text/x-python",
   "name": "python",
   "nbconvert_exporter": "python",
   "pygments_lexer": "ipython3",
   "version": "3.13.3"
  }
 },
 "nbformat": 4,
 "nbformat_minor": 5
}
